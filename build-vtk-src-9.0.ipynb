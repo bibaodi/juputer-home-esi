{
 "cells": [
  {
   "cell_type": "markdown",
   "id": "9dff202b",
   "metadata": {},
   "source": [
    "# 编译vtk的一点记录"
   ]
  },
  {
   "cell_type": "markdown",
   "id": "6785163d",
   "metadata": {},
   "source": [
    "run-cmake.sh\n",
    "\n",
    "```\n",
    "    cmake -DVTK_QT_VERSION:STRING=5 \\\n",
    "     -DQT_QMAKE_EXECUTABLE:PATH=/home/eton/Qt/5.15.2/gcc_64/bin/qmake \\\n",
    "     -DVTK_Group_Qt:BOOL=ON \\\n",
    "     -DCMAKE_PREFIX_PATH:PATH=/home/eton/Qt/5.15.2/gcc_64/lib/cmake  \\\n",
    "     -DBUILD_SHARED_LIBS:BOOL=ON ..\n",
    "\n",
    "```"
   ]
  },
  {
   "cell_type": "markdown",
   "id": "ff13f1ec",
   "metadata": {},
   "source": [
    "ccmake is needed\n"
   ]
  }
 ],
 "metadata": {
  "kernelspec": {
   "display_name": "Python 3 (ipykernel)",
   "language": "python",
   "name": "python3"
  },
  "language_info": {
   "codemirror_mode": {
    "name": "ipython",
    "version": 3
   },
   "file_extension": ".py",
   "mimetype": "text/x-python",
   "name": "python",
   "nbconvert_exporter": "python",
   "pygments_lexer": "ipython3",
   "version": "3.8.10"
  }
 },
 "nbformat": 4,
 "nbformat_minor": 5
}
